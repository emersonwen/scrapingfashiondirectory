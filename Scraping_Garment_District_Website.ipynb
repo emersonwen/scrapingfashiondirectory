{
  "nbformat": 4,
  "nbformat_minor": 0,
  "metadata": {
    "colab": {
      "name": "Scraping Garment District Website.ipynb",
      "provenance": []
    },
    "kernelspec": {
      "name": "python3",
      "display_name": "Python 3"
    },
    "accelerator": "TPU"
  },
  "cells": [
    {
      "cell_type": "markdown",
      "metadata": {
        "id": "TuDQiToNhUpC",
        "colab_type": "text"
      },
      "source": [
        "The goal is to scrape the directory from GarmentDistrict.com. First tried a looping method that did not turn out too well."
      ]
    },
    {
      "cell_type": "code",
      "metadata": {
        "id": "6e3QUQEmdl7E",
        "colab_type": "code",
        "colab": {}
      },
      "source": [
        "import csv\n",
        "import requests\n",
        "from bs4 import BeautifulSoup"
      ],
      "execution_count": 0,
      "outputs": []
    },
    {
      "cell_type": "code",
      "metadata": {
        "id": "ghwwXCFfd4Jp",
        "colab_type": "code",
        "colab": {}
      },
      "source": [
        "for i in range(354):\n",
        "  url = \"http://garmentdistrict.nyc/local-business/fashion/fashion-directory/?q=&showrooms=&trade_categories=&page={}\".format(i)\n",
        "  r = requests.get(url)\n",
        "  soup = BeautifulSoup(r.content)"
      ],
      "execution_count": 0,
      "outputs": []
    },
    {
      "cell_type": "code",
      "metadata": {
        "id": "blhAUhtWd-bW",
        "colab_type": "code",
        "colab": {}
      },
      "source": [
        "g_data=soup.find_all(\"li\", {\"class\":\"result-box\"})"
      ],
      "execution_count": 0,
      "outputs": []
    },
    {
      "cell_type": "markdown",
      "metadata": {
        "id": "wnVpxUTqiEC5",
        "colab_type": "text"
      },
      "source": [
        "Found a different method on StackOverflow. Format came out pretty ugly when the data is written as CSV."
      ]
    },
    {
      "cell_type": "code",
      "metadata": {
        "id": "fJ0itLMhWCaa",
        "colab_type": "code",
        "colab": {}
      },
      "source": [
        "from urllib.request import urlopen\n",
        "from bs4 import BeautifulSoup"
      ],
      "execution_count": 0,
      "outputs": []
    },
    {
      "cell_type": "code",
      "metadata": {
        "id": "zg-w240WeJei",
        "colab_type": "code",
        "colab": {}
      },
      "source": [
        "file = \"fashionlist.csv\"\n",
        "f = open(file, \"w\")\n",
        "Headers = \"Company,Address,Info\"\n",
        "f.write(Headers)\n",
        "for page in range(1,10):\n",
        "  url=\"http://garmentdistrict.nyc/local-business/fashion/fashion-directory/?q=&showrooms=&trade_categories=&page={}\".format(page)\n",
        "  html=urlopen(url)\n",
        "  soup=BeautifulSoup(html,\"html.parser\")\n",
        "  Title = soup.find_all(\"li\")\n",
        "  for i in Title:\n",
        "    try:\n",
        "      name = i.find(\"h4\").get_text()\n",
        "      address = i.find(\"div\", {\"class\":\"search-address\"}).get_text()\n",
        "      info = i.find(\"ul\", {\"class\":\"search-result-list\"}).get_text()\n",
        "      print(name, address, info)\n",
        "      f.write(\",{}\".format(name)+ \",{}\".format(address)+ \",{}\".format(info))\n",
        "    except:AttributeError\n",
        "f.close()"
      ],
      "execution_count": 0,
      "outputs": []
    },
    {
      "cell_type": "markdown",
      "metadata": {
        "id": "ybIkPqWSimy6",
        "colab_type": "text"
      },
      "source": [
        "With a bit of tweaking using RegEx, changing the target tag from div to li, and added some .strip() methods, I was able to spit out a fairly decent CSV file that displayed well in Excel. \n",
        "\n",
        "The spreadsheet still needs to be hand cleaned due to various inconsistencies in how the data is structured. "
      ]
    },
    {
      "cell_type": "code",
      "metadata": {
        "colab_type": "code",
        "id": "iakUMc_CQtDI",
        "colab": {}
      },
      "source": [
        "file = \"fashionlist.csv\"\n",
        "f = open(file, \"w\")\n",
        "Headers = \"Company,Address,Info, \\n\"\n",
        "f.write(Headers)\n",
        "for page in range(1,354):\n",
        "  url=\"http://garmentdistrict.nyc/local-business/fashion/fashion-directory/?q=&showrooms=&trade_categories=&page={}\".format(page)\n",
        "  html=urlopen(url)\n",
        "  soup=BeautifulSoup(html,\"html.parser\")\n",
        "  Title = soup.find_all(\"li\")\n",
        "  for i in Title:\n",
        "    try:\n",
        "      name = i.find(\"h4\").get_text().strip()\n",
        "      address = i.find(\"div\", {\"class\":\"search-address\"}).get_text(strip=True, separator=',').strip()\n",
        "      ##info = i.find(\"ul\", {\"class\":\"search-result-list\"}).get_text().strip()\n",
        "      print(name, address, info)\n",
        "      f.write(\",{}\".format(name)+ \",{}\".format(address)+ \",{}\".format(info)+ \"\\n\")\n",
        "    except:AttributeError\n",
        "f.close()"
      ],
      "execution_count": 0,
      "outputs": []
    },
    {
      "cell_type": "code",
      "metadata": {
        "id": "3jrb5UDGO_Vk",
        "colab_type": "code",
        "colab": {}
      },
      "source": [
        "from google.colab import files\n",
        "files.download('fashionlist.csv')"
      ],
      "execution_count": 0,
      "outputs": []
    },
    {
      "cell_type": "code",
      "metadata": {
        "id": "orV8irQOePFn",
        "colab_type": "code",
        "colab": {}
      },
      "source": [
        "soup"
      ],
      "execution_count": 0,
      "outputs": []
    },
    {
      "cell_type": "code",
      "metadata": {
        "id": "54VMOHsVe5HJ",
        "colab_type": "code",
        "colab": {}
      },
      "source": [
        "soup.findAll('li')"
      ],
      "execution_count": 0,
      "outputs": []
    }
  ]
}